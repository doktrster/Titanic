{
 "cells": [
  {
   "cell_type": "code",
   "execution_count": 56,
   "metadata": {
    "collapsed": true
   },
   "outputs": [],
   "source": [
    "import pandas as pd\n",
    "import numpy as np\n",
    "import matplotlib.pyplot as plt\n",
    "%matplotlib inline\n",
    "np.random.seed(42)\n",
    "from sklearn.model_selection import train_test_split, cross_val_score\n",
    "from sklearn.linear_model import LogisticRegression as LR\n",
    "from sklearn.tree import DecisionTreeClassifier as DTC\n",
    "from sklearn.metrics import roc_auc_score\n",
    "from sklearn.tree import _tree\n",
    "from sklearn.neighbors import KNeighborsClassifier as KNN\n",
    "\n",
    "from my_functions import f, f_gini, tree_to_code\n",
    "from my_functions import make_info_table, create_bins_for_column, bins_transfer\n",
    "\n",
    "import pickle\n",
    "\n",
    "pd.set_option('max_columns', 1000)\n",
    "pd.set_option('max_rows', 1000)"
   ]
  },
  {
   "cell_type": "code",
   "execution_count": 57,
   "metadata": {},
   "outputs": [
    {
     "data": {
      "text/plain": [
       "'0.22.0'"
      ]
     },
     "execution_count": 57,
     "metadata": {},
     "output_type": "execute_result"
    }
   ],
   "source": [
    "pd.__version__"
   ]
  },
  {
   "cell_type": "code",
   "execution_count": 58,
   "metadata": {},
   "outputs": [
    {
     "data": {
      "text/plain": [
       "Index(['PassengerId', 'Survived', 'Pclass', 'Name', 'Sex', 'Age', 'SibSp',\n",
       "       'Parch', 'Ticket', 'Fare', 'Cabin', 'Embarked'],\n",
       "      dtype='object')"
      ]
     },
     "execution_count": 58,
     "metadata": {},
     "output_type": "execute_result"
    }
   ],
   "source": [
    "train = pd.read_csv('input/train.csv')\n",
    "test_sub = pd.read_csv('input/test.csv')\n",
    "train.columns"
   ]
  },
  {
   "cell_type": "code",
   "execution_count": 59,
   "metadata": {},
   "outputs": [
    {
     "name": "stdout",
     "output_type": "stream",
     "text": [
      "<class 'pandas.core.frame.DataFrame'>\n",
      "RangeIndex: 891 entries, 0 to 890\n",
      "Data columns (total 12 columns):\n",
      "PassengerId    891 non-null int64\n",
      "Survived       891 non-null int64\n",
      "Pclass         891 non-null int64\n",
      "Name           891 non-null object\n",
      "Sex            891 non-null object\n",
      "Age            714 non-null float64\n",
      "SibSp          891 non-null int64\n",
      "Parch          891 non-null int64\n",
      "Ticket         891 non-null object\n",
      "Fare           891 non-null float64\n",
      "Cabin          204 non-null object\n",
      "Embarked       889 non-null object\n",
      "dtypes: float64(2), int64(5), object(5)\n",
      "memory usage: 83.6+ KB\n"
     ]
    }
   ],
   "source": [
    "train.info()"
   ]
  },
  {
   "cell_type": "code",
   "execution_count": 60,
   "metadata": {},
   "outputs": [
    {
     "data": {
      "text/plain": [
       "((891, 12), (418, 11))"
      ]
     },
     "execution_count": 60,
     "metadata": {},
     "output_type": "execute_result"
    }
   ],
   "source": [
    "train.shape, test_sub.shape"
   ]
  },
  {
   "cell_type": "code",
   "execution_count": 61,
   "metadata": {
    "collapsed": true
   },
   "outputs": [],
   "source": [
    "def name_pref_f(s):\n",
    "    if s.find(', ') >= 0:\n",
    "        s2 = s[(s.find(', ') + 2):]\n",
    "        s3 = s2[:(s2.find(' '))]\n",
    "    else:\n",
    "        0\n",
    "    return s3"
   ]
  },
  {
   "cell_type": "code",
   "execution_count": 62,
   "metadata": {},
   "outputs": [
    {
     "name": "stdout",
     "output_type": "stream",
     "text": [
      "['Mr.' 'Mrs.' 'Miss.' 'Master.' 'Don.' 'Rev.' 'Dr.' 'Mme.' 'Ms.' 'Major.'\n",
      " 'Lady.' 'Sir.' 'Mlle.' 'Col.' 'Capt.' 'the' 'Jonkheer.']\n"
     ]
    },
    {
     "data": {
      "text/plain": [
       "Mr.          1034\n",
       "Miss.         364\n",
       "Mrs.          250\n",
       "Master.        80\n",
       "Dr.            14\n",
       "Rev.           12\n",
       "Mlle.           4\n",
       "Major.          4\n",
       "Col.            4\n",
       "the             2\n",
       "Jonkheer.       2\n",
       "Mme.            2\n",
       "Lady.           2\n",
       "Capt.           2\n",
       "Ms.             2\n",
       "Sir.            2\n",
       "Don.            2\n",
       "Name: Name, dtype: int64"
      ]
     },
     "execution_count": 62,
     "metadata": {},
     "output_type": "execute_result"
    }
   ],
   "source": [
    "#!!! Name prefix\n",
    "print(pd.concat([train['Name'], train['Name']], axis = 0).apply(lambda x: name_pref_f(x)).unique())\n",
    "pd.concat([train['Name'], train['Name']], axis = 0).apply(lambda x: name_pref_f(x)).value_counts()"
   ]
  },
  {
   "cell_type": "code",
   "execution_count": 63,
   "metadata": {},
   "outputs": [],
   "source": [
    "def name_pref_f2(s):    \n",
    "    s2 = np.float('NaN')\n",
    "    for i, item in enumerate(['Mr.', 'Master.', 'Dr.', 'Rev.', 'Miss.', 'Mrs.']):\n",
    "        if s.find(item) >= 0:\n",
    "            s2 = i + 1\n",
    "    return s2"
   ]
  },
  {
   "cell_type": "code",
   "execution_count": 64,
   "metadata": {
    "collapsed": true
   },
   "outputs": [],
   "source": [
    "train['Name_prefix'] = train['Name'].apply(lambda x: name_pref_f2(x))\n",
    "test_sub['Name_prefix'] = test_sub['Name'].apply(lambda x: name_pref_f2(x))"
   ]
  },
  {
   "cell_type": "code",
   "execution_count": 65,
   "metadata": {
    "collapsed": true
   },
   "outputs": [],
   "source": [
    "target_col = 'Survived'\n",
    "columns_to_drop = ['Name', 'Ticket', 'Cabin']\n",
    "\n",
    "train = train.drop(columns_to_drop, axis = 1)\n",
    "test_sub = test_sub.drop(columns_to_drop, axis = 1)"
   ]
  },
  {
   "cell_type": "code",
   "execution_count": 66,
   "metadata": {
    "collapsed": true
   },
   "outputs": [],
   "source": [
    "X_init = pd.get_dummies(train.drop(target_col, axis = 1))\n",
    "X_sub = pd.get_dummies(test_sub)\n",
    "Y_init = train[target_col]"
   ]
  },
  {
   "cell_type": "code",
   "execution_count": 67,
   "metadata": {
    "collapsed": true
   },
   "outputs": [],
   "source": [
    "X_train, X_test, y_train, y_test = train_test_split(X_init, Y_init, test_size = 0.4)"
   ]
  },
  {
   "cell_type": "code",
   "execution_count": 68,
   "metadata": {},
   "outputs": [
    {
     "name": "stdout",
     "output_type": "stream",
     "text": [
      "shape: (534, 12)\n",
      "shape: (357, 12)\n",
      "shape: (534,)\n",
      "shape: (357,)\n",
      "shape: (418, 12)\n"
     ]
    }
   ],
   "source": [
    "for item in [X_train, X_test, y_train, y_test, X_sub]:\n",
    "    print('shape: {}'.format(item.shape))"
   ]
  },
  {
   "cell_type": "code",
   "execution_count": 69,
   "metadata": {},
   "outputs": [
    {
     "data": {
      "text/plain": [
       "array([ True,  True,  True,  True,  True,  True,  True,  True,  True,\n",
       "        True,  True,  True], dtype=bool)"
      ]
     },
     "execution_count": 69,
     "metadata": {},
     "output_type": "execute_result"
    }
   ],
   "source": [
    "X_train.columns == X_test.columns"
   ]
  },
  {
   "cell_type": "code",
   "execution_count": 70,
   "metadata": {},
   "outputs": [
    {
     "data": {
      "text/plain": [
       "array([ True,  True,  True,  True,  True,  True,  True,  True,  True,\n",
       "        True,  True,  True], dtype=bool)"
      ]
     },
     "execution_count": 70,
     "metadata": {},
     "output_type": "execute_result"
    }
   ],
   "source": [
    "X_train.columns == X_sub.columns"
   ]
  },
  {
   "cell_type": "code",
   "execution_count": 71,
   "metadata": {},
   "outputs": [
    {
     "data": {
      "text/html": [
       "<div>\n",
       "<style scoped>\n",
       "    .dataframe tbody tr th:only-of-type {\n",
       "        vertical-align: middle;\n",
       "    }\n",
       "\n",
       "    .dataframe tbody tr th {\n",
       "        vertical-align: top;\n",
       "    }\n",
       "\n",
       "    .dataframe thead th {\n",
       "        text-align: right;\n",
       "    }\n",
       "</style>\n",
       "<table border=\"1\" class=\"dataframe\">\n",
       "  <thead>\n",
       "    <tr style=\"text-align: right;\">\n",
       "      <th></th>\n",
       "      <th>PassengerId</th>\n",
       "      <th>Pclass</th>\n",
       "      <th>Age</th>\n",
       "      <th>SibSp</th>\n",
       "      <th>Parch</th>\n",
       "      <th>Fare</th>\n",
       "      <th>Name_prefix</th>\n",
       "      <th>Sex_female</th>\n",
       "      <th>Sex_male</th>\n",
       "      <th>Embarked_C</th>\n",
       "      <th>Embarked_Q</th>\n",
       "      <th>Embarked_S</th>\n",
       "    </tr>\n",
       "  </thead>\n",
       "  <tbody>\n",
       "    <tr>\n",
       "      <th>570</th>\n",
       "      <td>571</td>\n",
       "      <td>2</td>\n",
       "      <td>62.0</td>\n",
       "      <td>0</td>\n",
       "      <td>0</td>\n",
       "      <td>10.5000</td>\n",
       "      <td>1.0</td>\n",
       "      <td>0</td>\n",
       "      <td>1</td>\n",
       "      <td>0</td>\n",
       "      <td>0</td>\n",
       "      <td>1</td>\n",
       "    </tr>\n",
       "    <tr>\n",
       "      <th>787</th>\n",
       "      <td>788</td>\n",
       "      <td>3</td>\n",
       "      <td>8.0</td>\n",
       "      <td>4</td>\n",
       "      <td>1</td>\n",
       "      <td>29.1250</td>\n",
       "      <td>2.0</td>\n",
       "      <td>0</td>\n",
       "      <td>1</td>\n",
       "      <td>0</td>\n",
       "      <td>1</td>\n",
       "      <td>0</td>\n",
       "    </tr>\n",
       "    <tr>\n",
       "      <th>74</th>\n",
       "      <td>75</td>\n",
       "      <td>3</td>\n",
       "      <td>32.0</td>\n",
       "      <td>0</td>\n",
       "      <td>0</td>\n",
       "      <td>56.4958</td>\n",
       "      <td>1.0</td>\n",
       "      <td>0</td>\n",
       "      <td>1</td>\n",
       "      <td>0</td>\n",
       "      <td>0</td>\n",
       "      <td>1</td>\n",
       "    </tr>\n",
       "    <tr>\n",
       "      <th>113</th>\n",
       "      <td>114</td>\n",
       "      <td>3</td>\n",
       "      <td>20.0</td>\n",
       "      <td>1</td>\n",
       "      <td>0</td>\n",
       "      <td>9.8250</td>\n",
       "      <td>5.0</td>\n",
       "      <td>1</td>\n",
       "      <td>0</td>\n",
       "      <td>0</td>\n",
       "      <td>0</td>\n",
       "      <td>1</td>\n",
       "    </tr>\n",
       "    <tr>\n",
       "      <th>635</th>\n",
       "      <td>636</td>\n",
       "      <td>2</td>\n",
       "      <td>28.0</td>\n",
       "      <td>0</td>\n",
       "      <td>0</td>\n",
       "      <td>13.0000</td>\n",
       "      <td>5.0</td>\n",
       "      <td>1</td>\n",
       "      <td>0</td>\n",
       "      <td>0</td>\n",
       "      <td>0</td>\n",
       "      <td>1</td>\n",
       "    </tr>\n",
       "  </tbody>\n",
       "</table>\n",
       "</div>"
      ],
      "text/plain": [
       "     PassengerId  Pclass   Age  SibSp  Parch     Fare  Name_prefix  \\\n",
       "570          571       2  62.0      0      0  10.5000          1.0   \n",
       "787          788       3   8.0      4      1  29.1250          2.0   \n",
       "74            75       3  32.0      0      0  56.4958          1.0   \n",
       "113          114       3  20.0      1      0   9.8250          5.0   \n",
       "635          636       2  28.0      0      0  13.0000          5.0   \n",
       "\n",
       "     Sex_female  Sex_male  Embarked_C  Embarked_Q  Embarked_S  \n",
       "570           0         1           0           0           1  \n",
       "787           0         1           0           1           0  \n",
       "74            0         1           0           0           1  \n",
       "113           1         0           0           0           1  \n",
       "635           1         0           0           0           1  "
      ]
     },
     "execution_count": 71,
     "metadata": {},
     "output_type": "execute_result"
    }
   ],
   "source": [
    "X_train.head()"
   ]
  },
  {
   "cell_type": "code",
   "execution_count": 73,
   "metadata": {},
   "outputs": [],
   "source": [
    "'''X_train.to_pickle('pkl/X_train.pkl')\n",
    "X_test.to_pickle('pkl/X_test.pkl')\n",
    "y_train.to_pickle('pkl/y_train.pkl')\n",
    "y_test.to_pickle('pkl/y_test.pkl')\n",
    "X_sub.to_pickle('pkl/X_sub.pkl')'''"
   ]
  },
  {
   "cell_type": "code",
   "execution_count": 74,
   "metadata": {
    "collapsed": true
   },
   "outputs": [],
   "source": [
    "'''X_train = pd.read_pickle('pkl/X_train.pkl')\n",
    "X_test = pd.read_pickle('pkl/X_test.pkl')\n",
    "y_train = pd.read_pickle('pkl/y_train.pkl')\n",
    "y_test = pd.read_pickle('pkl/y_test.pkl')\n",
    "X_sub = pd.read_pickle('pkl/X_sub.pkl')'''"
   ]
  },
  {
   "cell_type": "code",
   "execution_count": 75,
   "metadata": {
    "collapsed": true
   },
   "outputs": [],
   "source": [
    "X_train = X_train.reset_index(drop = True)\n",
    "X_test  = X_test.reset_index(drop = True)\n",
    "y_train = y_train.reset_index(drop = True)\n",
    "y_test  = y_test.reset_index(drop = True)"
   ]
  },
  {
   "cell_type": "code",
   "execution_count": 76,
   "metadata": {
    "collapsed": true
   },
   "outputs": [],
   "source": [
    "#?\n",
    "X_sub  = X_sub.reset_index(drop = True)"
   ]
  },
  {
   "cell_type": "code",
   "execution_count": 77,
   "metadata": {
    "collapsed": true
   },
   "outputs": [],
   "source": [
    "fts_corr = X_train.columns"
   ]
  },
  {
   "cell_type": "code",
   "execution_count": 78,
   "metadata": {},
   "outputs": [
    {
     "data": {
      "text/plain": [
       "'X_train = X_train.loc[:, fts_corr]\\nX_test  = X_test.loc[:, fts_corr]'"
      ]
     },
     "execution_count": 78,
     "metadata": {},
     "output_type": "execute_result"
    }
   ],
   "source": [
    "'''X_train = X_train.loc[:, fts_corr]\n",
    "X_test  = X_test.loc[:, fts_corr]'''"
   ]
  },
  {
   "cell_type": "code",
   "execution_count": 79,
   "metadata": {},
   "outputs": [
    {
     "data": {
      "text/plain": [
       "((534, 12), (534,), (357, 12), (357,))"
      ]
     },
     "execution_count": 79,
     "metadata": {},
     "output_type": "execute_result"
    }
   ],
   "source": [
    "X_train.shape, y_train.shape, X_test.shape, y_test.shape"
   ]
  },
  {
   "cell_type": "markdown",
   "metadata": {},
   "source": [
    "#### #Binning"
   ]
  },
  {
   "cell_type": "code",
   "execution_count": 80,
   "metadata": {},
   "outputs": [
    {
     "data": {
      "text/html": [
       "<div>\n",
       "<style scoped>\n",
       "    .dataframe tbody tr th:only-of-type {\n",
       "        vertical-align: middle;\n",
       "    }\n",
       "\n",
       "    .dataframe tbody tr th {\n",
       "        vertical-align: top;\n",
       "    }\n",
       "\n",
       "    .dataframe thead th {\n",
       "        text-align: right;\n",
       "    }\n",
       "</style>\n",
       "<table border=\"1\" class=\"dataframe\">\n",
       "  <thead>\n",
       "    <tr style=\"text-align: right;\">\n",
       "      <th></th>\n",
       "      <th>PassengerId</th>\n",
       "      <th>Pclass</th>\n",
       "      <th>Age</th>\n",
       "      <th>SibSp</th>\n",
       "      <th>Parch</th>\n",
       "      <th>Fare</th>\n",
       "      <th>Name_prefix</th>\n",
       "      <th>Sex_female</th>\n",
       "      <th>Sex_male</th>\n",
       "      <th>Embarked_C</th>\n",
       "      <th>Embarked_Q</th>\n",
       "      <th>Embarked_S</th>\n",
       "    </tr>\n",
       "  </thead>\n",
       "  <tbody>\n",
       "    <tr>\n",
       "      <th>0</th>\n",
       "      <td>571</td>\n",
       "      <td>2</td>\n",
       "      <td>62.0</td>\n",
       "      <td>0</td>\n",
       "      <td>0</td>\n",
       "      <td>10.5000</td>\n",
       "      <td>1.0</td>\n",
       "      <td>0</td>\n",
       "      <td>1</td>\n",
       "      <td>0</td>\n",
       "      <td>0</td>\n",
       "      <td>1</td>\n",
       "    </tr>\n",
       "    <tr>\n",
       "      <th>1</th>\n",
       "      <td>788</td>\n",
       "      <td>3</td>\n",
       "      <td>8.0</td>\n",
       "      <td>4</td>\n",
       "      <td>1</td>\n",
       "      <td>29.1250</td>\n",
       "      <td>2.0</td>\n",
       "      <td>0</td>\n",
       "      <td>1</td>\n",
       "      <td>0</td>\n",
       "      <td>1</td>\n",
       "      <td>0</td>\n",
       "    </tr>\n",
       "    <tr>\n",
       "      <th>2</th>\n",
       "      <td>75</td>\n",
       "      <td>3</td>\n",
       "      <td>32.0</td>\n",
       "      <td>0</td>\n",
       "      <td>0</td>\n",
       "      <td>56.4958</td>\n",
       "      <td>1.0</td>\n",
       "      <td>0</td>\n",
       "      <td>1</td>\n",
       "      <td>0</td>\n",
       "      <td>0</td>\n",
       "      <td>1</td>\n",
       "    </tr>\n",
       "    <tr>\n",
       "      <th>3</th>\n",
       "      <td>114</td>\n",
       "      <td>3</td>\n",
       "      <td>20.0</td>\n",
       "      <td>1</td>\n",
       "      <td>0</td>\n",
       "      <td>9.8250</td>\n",
       "      <td>5.0</td>\n",
       "      <td>1</td>\n",
       "      <td>0</td>\n",
       "      <td>0</td>\n",
       "      <td>0</td>\n",
       "      <td>1</td>\n",
       "    </tr>\n",
       "    <tr>\n",
       "      <th>4</th>\n",
       "      <td>636</td>\n",
       "      <td>2</td>\n",
       "      <td>28.0</td>\n",
       "      <td>0</td>\n",
       "      <td>0</td>\n",
       "      <td>13.0000</td>\n",
       "      <td>5.0</td>\n",
       "      <td>1</td>\n",
       "      <td>0</td>\n",
       "      <td>0</td>\n",
       "      <td>0</td>\n",
       "      <td>1</td>\n",
       "    </tr>\n",
       "  </tbody>\n",
       "</table>\n",
       "</div>"
      ],
      "text/plain": [
       "   PassengerId  Pclass   Age  SibSp  Parch     Fare  Name_prefix  Sex_female  \\\n",
       "0          571       2  62.0      0      0  10.5000          1.0           0   \n",
       "1          788       3   8.0      4      1  29.1250          2.0           0   \n",
       "2           75       3  32.0      0      0  56.4958          1.0           0   \n",
       "3          114       3  20.0      1      0   9.8250          5.0           1   \n",
       "4          636       2  28.0      0      0  13.0000          5.0           1   \n",
       "\n",
       "   Sex_male  Embarked_C  Embarked_Q  Embarked_S  \n",
       "0         1           0           0           1  \n",
       "1         1           0           1           0  \n",
       "2         1           0           0           1  \n",
       "3         0           0           0           1  \n",
       "4         0           0           0           1  "
      ]
     },
     "execution_count": 80,
     "metadata": {},
     "output_type": "execute_result"
    }
   ],
   "source": [
    "X_train.head(5)"
   ]
  },
  {
   "cell_type": "code",
   "execution_count": 81,
   "metadata": {
    "collapsed": true
   },
   "outputs": [],
   "source": [
    "#Make a dictionary with column names as keys \n",
    "#and names of binned columns as values\n",
    "\n",
    "#!!! Long operation (3 min) - uncomment if there is no pikcle with this dictionary\n",
    "bin_col_names = {}\n",
    "\n",
    "for col in X_train.columns:\n",
    "    bin_col_names[col] = create_bins_for_column(X_train, col, q_qty = 8)[3]\n",
    "\n",
    "with open('bin_col_names.pickle', 'wb') as handle:\n",
    "    pickle.dump(bin_col_names, handle, protocol=pickle.HIGHEST_PROTOCOL)\n",
    "\n",
    "with open('bin_col_names.pickle', 'rb') as handle:\n",
    "    bin_col_names = pickle.load(handle)"
   ]
  },
  {
   "cell_type": "code",
   "execution_count": 82,
   "metadata": {},
   "outputs": [
    {
     "data": {
      "text/plain": [
       "{'Age': ['Age=NaN',\n",
       "  'Age=(0.419, 15.25]',\n",
       "  'Age=(15.25, 20.0]',\n",
       "  'Age=(20.0, 24.0]',\n",
       "  'Age=(24.0, 28.0]',\n",
       "  'Age=(28.0, 32.0]',\n",
       "  'Age=(32.0, 37.0]',\n",
       "  'Age=(37.0, 47.0]',\n",
       "  'Age=(47.0, 80.0]'],\n",
       " 'Embarked_C': ['Embarked_C=NaN', 'Embarked_C=0', 'Embarked_C=(0.999, 1.0]'],\n",
       " 'Embarked_Q': ['Embarked_Q=NaN', 'Embarked_Q=0', 'Embarked_Q=(0.999, 1.0]'],\n",
       " 'Embarked_S': ['Embarked_S=NaN', 'Embarked_S=(-0.001, 0.0]', 'Embarked_S=1'],\n",
       " 'Fare': ['Fare=NaN',\n",
       "  'Fare=(-0.001, 7.75]',\n",
       "  'Fare=(7.75, 7.896]',\n",
       "  'Fare=(7.896, 9.577]',\n",
       "  'Fare=(9.577, 14.454]',\n",
       "  'Fare=(14.454, 23.519]',\n",
       "  'Fare=(23.519, 30.5]',\n",
       "  'Fare=(30.5, 69.55]',\n",
       "  'Fare=(69.55, 512.329]'],\n",
       " 'Name_prefix': ['Name_prefix=NaN',\n",
       "  'Name_prefix=1.0',\n",
       "  'Name_prefix=2.0',\n",
       "  'Name_prefix=(2.999, 3.5]',\n",
       "  'Name_prefix=(3.5, 4.0]',\n",
       "  'Name_prefix=5.0',\n",
       "  'Name_prefix=6.0'],\n",
       " 'Parch': ['Parch=NaN',\n",
       "  'Parch=0',\n",
       "  'Parch=1',\n",
       "  'Parch=2',\n",
       "  'Parch=(2.999, 3.667]',\n",
       "  'Parch=(3.667, 4.333]',\n",
       "  'Parch=(4.333, 5.0]'],\n",
       " 'PassengerId': ['PassengerId=NaN',\n",
       "  'PassengerId=(0.999, 116.625]',\n",
       "  'PassengerId=(116.625, 225.25]',\n",
       "  'PassengerId=(225.25, 339.75]',\n",
       "  'PassengerId=(339.75, 463.0]',\n",
       "  'PassengerId=(463.0, 572.25]',\n",
       "  'PassengerId=(572.25, 679.25]',\n",
       "  'PassengerId=(679.25, 776.375]',\n",
       "  'PassengerId=(776.375, 891.0]'],\n",
       " 'Pclass': ['Pclass=NaN', 'Pclass=1', 'Pclass=(1.999, 2.0]', 'Pclass=3'],\n",
       " 'Sex_female': ['Sex_female=NaN', 'Sex_female=0', 'Sex_female=(0.999, 1.0]'],\n",
       " 'Sex_male': ['Sex_male=NaN', 'Sex_male=(-0.001, 0.0]', 'Sex_male=1'],\n",
       " 'SibSp': ['SibSp=NaN',\n",
       "  'SibSp=0',\n",
       "  'SibSp=1',\n",
       "  'SibSp=2',\n",
       "  'SibSp=3',\n",
       "  'SibSp=4',\n",
       "  'SibSp=(4.999, 5.0]',\n",
       "  'SibSp=8']}"
      ]
     },
     "execution_count": 82,
     "metadata": {},
     "output_type": "execute_result"
    }
   ],
   "source": [
    "bin_col_names"
   ]
  },
  {
   "cell_type": "code",
   "execution_count": 83,
   "metadata": {
    "collapsed": true
   },
   "outputs": [],
   "source": [
    "def make_cross_variable(df, bin_col_names, col1, col2):\n",
    "    if col1 == col2:\n",
    "        print('Features are the same! Operation stopped.')\n",
    "        return\n",
    "        \n",
    "    tmp_df1 = bins_transfer(df, col1, bin_col_names[col1])[0]\n",
    "    tmp_df2 = bins_transfer(df, col2, bin_col_names[col2])[0]\n",
    "        \n",
    "    df3 = pd.DataFrame()\n",
    "        \n",
    "    for bc1 in bin_col_names[col1]:\n",
    "        for bc2 in bin_col_names[col2]:\n",
    "            bin_cross_col_name = bc1 + '*' + bc2\n",
    "            df3[bin_cross_col_name] = ((tmp_df1[bc1] == 1) & (tmp_df2[bc2] == 1)).astype(np.int64)\n",
    "\n",
    "    assert df3.sum().sum() == df3.shape[0]\n",
    "    \n",
    "    return df3"
   ]
  },
  {
   "cell_type": "code",
   "execution_count": 84,
   "metadata": {
    "collapsed": true
   },
   "outputs": [],
   "source": [
    "ignore_col_list = ['PassengerId']"
   ]
  },
  {
   "cell_type": "code",
   "execution_count": 85,
   "metadata": {},
   "outputs": [
    {
     "data": {
      "text/plain": [
       "((891, 12), (891,))"
      ]
     },
     "execution_count": 85,
     "metadata": {},
     "output_type": "execute_result"
    }
   ],
   "source": [
    "X_fit_pre = pd.concat([X_train, X_test], axis = 0).sort_index()\n",
    "y_fit_pre = pd.concat([y_train, y_test], axis = 0).sort_index()\n",
    "X_fit_pre.shape, y_fit_pre.shape"
   ]
  },
  {
   "cell_type": "code",
   "execution_count": 158,
   "metadata": {
    "scrolled": false
   },
   "outputs": [
    {
     "name": "stdout",
     "output_type": "stream",
     "text": [
      "\n",
      "\n",
      "ITERATION: 1\n",
      "\n",
      "\n",
      "\n",
      "ITERATION: 2\n",
      "\n",
      "\n",
      "\n",
      "ITERATION: 3\n",
      "\n",
      "\n",
      "\n",
      "ITERATION: 4\n",
      "\n",
      "\n",
      "\n",
      "ITERATION: 5\n",
      "\n",
      "\n",
      "\n",
      "ITERATION: 6\n",
      "\n"
     ]
    }
   ],
   "source": [
    "#Make cross-variables\n",
    "from time import time\n",
    "\n",
    "used_cols = []\n",
    "used_cross_cols = []\n",
    "current_dfs = []\n",
    "max_df_train = None\n",
    "max_df_test = None\n",
    "current_df_train = None\n",
    "current_df_test = None\n",
    "\n",
    "log_file = open('log_{}.txt'.format(np.round(time()).astype(np.int64)), 'w')\n",
    "\n",
    "for iteration in range(7):\n",
    "    \n",
    "    print('\\n\\nITERATION: {}'.format(iteration + 1), end = '\\n\\n')\n",
    "    log_file.write('\\n\\nITERATION: {}\\n'.format(iteration + 1))\n",
    "    \n",
    "    max_accuracy_fit_pre = 0\n",
    "    max_accuracy_test = 0\n",
    "    max_accuracy_ft = None\n",
    "    max_col1, max_col2 = None, None\n",
    "    \n",
    "    iter2 = 0\n",
    "    checked_cols_lst = []\n",
    "    \n",
    "    for col1 in X_fit_pre.columns:\n",
    "        for col2 in X_fit_pre.columns:\n",
    "            if col1 == col2 or col1 in used_cols or col2 in used_cols or [col1, col2] in checked_cols_lst \\\n",
    "                                            or col1 in ignore_col_list or col2 in ignore_col_list:\n",
    "                continue\n",
    "                \n",
    "            checked_cols_lst.append([col1, col2])\n",
    "            \n",
    "            iter2 += 1\n",
    "            \n",
    "            cross_col_name = '{}*{}'.format(col1, col2)\n",
    "\n",
    "            tmp_df_train = make_cross_variable(X_fit_pre, bin_col_names, col1, col2)\n",
    "            tmp_df_test  = make_cross_variable(X_test,  bin_col_names, col1, col2)\n",
    "            \n",
    "            \n",
    "\n",
    "            if iteration > 0:\n",
    "                tmp_df_train = pd.concat([current_dfs[0],  tmp_df_train], axis = 1)\n",
    "                tmp_df_test  = pd.concat([current_dfs[1],  tmp_df_test], axis = 1)\n",
    "            \n",
    "            clf = KNN(8)\n",
    "            \n",
    "            \n",
    "            #clf.fit(tmp_df_train, y_fit_pre.sort_index())\n",
    "            #y_pred_train = clf.predict(tmp_df_train)\n",
    "            #y_pred_test  = clf.predict(tmp_df_test)\n",
    "\n",
    "            accuracy_fit_pre = cross_val_score(clf, tmp_df_train, y_fit_pre, cv = 5)\n",
    "            accuracy_fit_pre_mean = np.mean(np.array(accuracy_fit_pre))\n",
    "            #accuracy_test  = clf.score(tmp_df_test, y_test)\n",
    "\n",
    "            #print('{}. cross_col_name: {}'.format(iter2, cross_col_name))\n",
    "            log_file.write('{}. cross_col_name: {}\\n'.format(iter2, cross_col_name))\n",
    "            #print('accuracy_fit_pre: {}\\naccuracy_test: {}'.format(accuracy_fit_pre, accuracy_test), end = '\\n\\n')\n",
    "            log_file.write('accuracy_fit_pre: {}, \\naccuracy_fit_pre_mean: {}\\n\\n'\\\n",
    "                                                .format(accuracy_fit_pre, accuracy_fit_pre_mean))\n",
    "\n",
    "            if accuracy_fit_pre_mean > max_accuracy_test:\n",
    "                max_col1 = col1\n",
    "                max_col2 = col2\n",
    "                \n",
    "                max_accuracy_fit_pre = accuracy_fit_pre\n",
    "                max_accuracy_test  = accuracy_fit_pre_mean\n",
    "                \n",
    "                max_accuracy_ft = cross_col_name\n",
    "                \n",
    "                max_df_train = tmp_df_train\n",
    "                max_df_test = tmp_df_test\n",
    "\n",
    "\n",
    "    current_df_train = max_df_train.copy()\n",
    "    current_df_test  = max_df_test.copy()\n",
    "        \n",
    "    current_dfs = [current_df_train, current_df_test]\n",
    "        \n",
    "    if  max_col1 is None or max_col2 is None:\n",
    "        break\n",
    "\n",
    "    used_cols.extend([max_col1, max_col2])\n",
    "    used_cross_cols.append(max_accuracy_ft)\n",
    "    \n",
    "    #print('used cols: {}'.format(used_cols), end = '\\n\\n')\n",
    "    log_file.write('used cols: {}\\n'.format(used_cols))\n",
    "    #print('used_cross_cols cols: {}'.format(used_cross_cols), end = '\\n\\n')\n",
    "    log_file.write('used_cross_cols cols: {}\\n\\n'.format(used_cross_cols))\n",
    "    \n",
    "    #print('MAX: accuracy_fit_pre: {}, accuracy_test: {}'.format(max_accuracy_fit_pre, max_accuracy_test), end = '\\n\\n')\n",
    "    log_file.write('max_accuracy_fit_pre: {}, max_accuracy_test: {}\\n\\n'.format(max_accuracy_fit_pre, max_accuracy_test))"
   ]
  },
  {
   "cell_type": "code",
   "execution_count": 159,
   "metadata": {
    "collapsed": true
   },
   "outputs": [],
   "source": [
    "log_file.close()"
   ]
  },
  {
   "cell_type": "code",
   "execution_count": 196,
   "metadata": {
    "collapsed": true
   },
   "outputs": [],
   "source": [
    "#list copied from the log (with the best gini)\n",
    "\n",
    "\n",
    "great_cross_features = ['SibSp', 'Name_prefix', \n",
    "                        'Sex_female', 'Pclass', \n",
    "                        'Sex_male', 'Age']"
   ]
  },
  {
   "cell_type": "code",
   "execution_count": 197,
   "metadata": {
    "collapsed": true
   },
   "outputs": [],
   "source": [
    "#bins dict for submission\n",
    "bin_col_names_sub = {}\n",
    "\n",
    "for item in great_cross_features:\n",
    "    bin_col_names_sub[item] = bin_col_names[item]"
   ]
  },
  {
   "cell_type": "code",
   "execution_count": 198,
   "metadata": {},
   "outputs": [
    {
     "data": {
      "text/plain": [
       "{'Age': ['Age=NaN',\n",
       "  'Age=(0.419, 15.25]',\n",
       "  'Age=(15.25, 20.0]',\n",
       "  'Age=(20.0, 24.0]',\n",
       "  'Age=(24.0, 28.0]',\n",
       "  'Age=(28.0, 32.0]',\n",
       "  'Age=(32.0, 37.0]',\n",
       "  'Age=(37.0, 47.0]',\n",
       "  'Age=(47.0, 80.0]'],\n",
       " 'Name_prefix': ['Name_prefix=NaN',\n",
       "  'Name_prefix=1.0',\n",
       "  'Name_prefix=2.0',\n",
       "  'Name_prefix=(2.999, 3.5]',\n",
       "  'Name_prefix=(3.5, 4.0]',\n",
       "  'Name_prefix=5.0',\n",
       "  'Name_prefix=6.0'],\n",
       " 'Pclass': ['Pclass=NaN', 'Pclass=1', 'Pclass=(1.999, 2.0]', 'Pclass=3'],\n",
       " 'Sex_female': ['Sex_female=NaN', 'Sex_female=0', 'Sex_female=(0.999, 1.0]'],\n",
       " 'Sex_male': ['Sex_male=NaN', 'Sex_male=(-0.001, 0.0]', 'Sex_male=1'],\n",
       " 'SibSp': ['SibSp=NaN',\n",
       "  'SibSp=0',\n",
       "  'SibSp=1',\n",
       "  'SibSp=2',\n",
       "  'SibSp=3',\n",
       "  'SibSp=4',\n",
       "  'SibSp=(4.999, 5.0]',\n",
       "  'SibSp=8']}"
      ]
     },
     "execution_count": 198,
     "metadata": {},
     "output_type": "execute_result"
    }
   ],
   "source": [
    "bin_col_names_sub"
   ]
  },
  {
   "cell_type": "code",
   "execution_count": 199,
   "metadata": {},
   "outputs": [
    {
     "data": {
      "text/plain": [
       "((891, 12), (891,))"
      ]
     },
     "execution_count": 199,
     "metadata": {},
     "output_type": "execute_result"
    }
   ],
   "source": [
    "X_fit = pd.concat([X_train, X_test], axis = 0).sort_index()\n",
    "y_fit = pd.concat([y_train, y_test], axis = 0).sort_index()\n",
    "X_fit.shape, y_fit.shape"
   ]
  },
  {
   "cell_type": "code",
   "execution_count": 200,
   "metadata": {},
   "outputs": [
    {
     "data": {
      "text/plain": [
       "6"
      ]
     },
     "execution_count": 200,
     "metadata": {},
     "output_type": "execute_result"
    }
   ],
   "source": [
    "n_cross_features = len(great_cross_features) #3\n",
    "n_cross_features"
   ]
  },
  {
   "cell_type": "code",
   "execution_count": 210,
   "metadata": {},
   "outputs": [
    {
     "name": "stdout",
     "output_type": "stream",
     "text": [
      "1. cross_col_name: SibSp*Name_prefix\n",
      "accuracy_train: 0.8114478114478114\n",
      "\n",
      "used cols: ['SibSp', 'Name_prefix']\n",
      "----\n",
      "\n",
      "2. cross_col_name: Sex_female*Pclass\n",
      "accuracy_train: 0.8002244668911336\n",
      "\n",
      "used cols: ['SibSp', 'Name_prefix', 'Sex_female', 'Pclass']\n",
      "----\n",
      "\n",
      "3. cross_col_name: Sex_male*Age\n",
      "accuracy_train: 0.8428731762065096\n",
      "\n",
      "used cols: ['SibSp', 'Name_prefix', 'Sex_female', 'Pclass', 'Sex_male', 'Age']\n",
      "----\n",
      "\n"
     ]
    }
   ],
   "source": [
    "#Make a model\n",
    "used_cols = []\n",
    "used_cross_cols = []\n",
    "current_dfs = []\n",
    "max_df_train = None\n",
    "max_df_test = None\n",
    "current_df_train = None\n",
    "current_df_test = None\n",
    "\n",
    "#log_file = open('log.txt', 'w')\n",
    "\n",
    "iter2 = 0\n",
    "for iteration in range(n_cross_features):\n",
    "    \n",
    "    max_accuracy_train = 0\n",
    "    max_accuracy_test = 0\n",
    "    max_accuracy_ft = None\n",
    "    max_col1, max_col2 = None, None\n",
    "    \n",
    "    checked_cols_lst = []\n",
    "    \n",
    "    for col1 in great_cross_features[(iteration * 2) : (iteration * 2 + 1)]:\n",
    "        for col2 in great_cross_features[(iteration * 2 + 1) : (iteration * 2 + 2)]:\n",
    "                \n",
    "            checked_cols_lst.append([col1, col2])\n",
    "            \n",
    "            iter2 += 1\n",
    "            \n",
    "            cross_col_name = '{}*{}'.format(col1, col2)\n",
    "\n",
    "            tmp_df_train = make_cross_variable(X_fit, bin_col_names, col1, col2)\n",
    "            tmp_df_test  = make_cross_variable(X_sub,  bin_col_names, col1, col2)\n",
    "            \n",
    "            if iteration > 0:\n",
    "                tmp_df_train = pd.concat([current_dfs[0],  tmp_df_train], axis = 1)\n",
    "                tmp_df_test  = pd.concat([current_dfs[1],  tmp_df_test], axis = 1)\n",
    "            \n",
    "            clf = KNN(9)\n",
    "            \n",
    "            \n",
    "            \n",
    "            clf.fit(tmp_df_train, y_fit.sort_index())\n",
    "            y_pred_train = clf.predict(tmp_df_train)\n",
    "            y_pred_test  = clf.predict(tmp_df_test)\n",
    "\n",
    "            accuracy_train = clf.score(tmp_df_train, y_fit)\n",
    "            #accuracy_test  = 200* roc_auc_score(y_test,  y_pred_test) - 100\n",
    "\n",
    "            print('{}. cross_col_name: {}'.format(iter2, cross_col_name))\n",
    "            #log_file.write('{}. cross_col_name: {}\\n'.format(iter2, cross_col_name))\n",
    "            print('accuracy_train: {}'.format(accuracy_train), end = '\\n\\n')\n",
    "            #log_file.write('accuracy_train: {}\\naccuracy_test:  {}\\n\\n'.format(accuracy_train, accuracy_test))\n",
    "\n",
    "            if True:\n",
    "                max_col1 = col1\n",
    "                max_col2 = col2\n",
    "                \n",
    "                max_accuracy_train = accuracy_train\n",
    "                #max_accuracy_test  = accuracy_test\n",
    "                \n",
    "                max_accuracy_ft = cross_col_name\n",
    "                \n",
    "                max_df_train = tmp_df_train\n",
    "                max_df_test = tmp_df_test\n",
    "\n",
    "\n",
    "    current_df_train = max_df_train.copy()\n",
    "    current_df_test  = max_df_test.copy()\n",
    "        \n",
    "    current_dfs = [current_df_train, current_df_test]\n",
    "        \n",
    "    if  max_col1 is None or max_col2 is None:\n",
    "        break\n",
    "\n",
    "    used_cols.extend([max_col1, max_col2])\n",
    "    used_cross_cols.append(max_accuracy_ft)\n",
    "    \n",
    "    print('used cols: {}'.format(used_cols), end = '\\n----\\n\\n')"
   ]
  },
  {
   "cell_type": "code",
   "execution_count": 211,
   "metadata": {},
   "outputs": [
    {
     "data": {
      "text/plain": [
       "(418, 12)"
      ]
     },
     "execution_count": 211,
     "metadata": {},
     "output_type": "execute_result"
    }
   ],
   "source": [
    "X_sub.shape"
   ]
  },
  {
   "cell_type": "code",
   "execution_count": 212,
   "metadata": {},
   "outputs": [
    {
     "data": {
      "text/plain": [
       "array([0, 0, 0, 0, 1, 0, 1, 0, 0, 0, 0, 0, 1, 0, 1, 1, 0, 0, 1, 0, 0, 1, 1,\n",
       "       0, 1, 0, 1, 0, 0, 0, 0, 0, 1, 1, 0, 0, 1, 1, 0, 0, 0, 0, 0, 1, 1, 0,\n",
       "       0, 0, 1, 1, 0, 0, 1, 1, 0, 0, 0, 0, 0, 1, 0, 0, 0, 1, 1, 1, 1, 0, 0,\n",
       "       1, 1, 0, 1, 0, 1, 1, 0, 1, 0, 1, 1, 0, 0, 0, 0, 0, 1, 1, 1, 1, 1, 0,\n",
       "       1, 0, 1, 0, 1, 0, 1, 0, 1, 0, 0, 0, 0, 0, 0, 0, 0, 0, 0, 1, 1, 1, 1,\n",
       "       0, 0, 1, 1, 1, 1, 0, 1, 0, 0, 1, 0, 1, 0, 0, 0, 0, 1, 0, 0, 0, 0, 0,\n",
       "       1, 0, 0, 1, 0, 0, 0, 0, 0, 0, 0, 0, 1, 0, 0, 1, 0, 0, 1, 1, 0, 0, 1,\n",
       "       1, 1, 0, 0, 0, 0, 0, 1, 1, 0, 0, 0, 0, 0, 1, 1, 0, 1, 1, 0, 0, 1, 0,\n",
       "       1, 0, 1, 0, 1, 0, 0, 0, 1, 0, 1, 0, 1, 1, 0, 1, 1, 1, 0, 1, 0, 0, 0,\n",
       "       0, 1, 0, 0, 0, 0, 1, 0, 0, 1, 0, 1, 0, 1, 0, 1, 0, 1, 1, 0, 1, 0, 0,\n",
       "       0, 1, 0, 0, 0, 0, 0, 0, 1, 1, 1, 1, 0, 0, 0, 0, 1, 0, 1, 1, 1, 0, 1,\n",
       "       0, 0, 0, 0, 0, 1, 0, 0, 0, 1, 1, 0, 0, 0, 0, 1, 0, 0, 0, 1, 1, 0, 1,\n",
       "       0, 0, 0, 0, 1, 1, 1, 1, 1, 0, 0, 0, 0, 0, 0, 1, 0, 0, 0, 0, 1, 0, 0,\n",
       "       0, 0, 0, 0, 0, 1, 1, 0, 1, 0, 0, 0, 0, 0, 0, 1, 1, 0, 0, 0, 0, 0, 0,\n",
       "       0, 1, 1, 0, 1, 0, 0, 0, 1, 0, 0, 0, 0, 0, 0, 0, 0, 0, 0, 0, 0, 1, 0,\n",
       "       1, 0, 0, 0, 1, 1, 0, 0, 0, 1, 0, 1, 0, 0, 0, 0, 1, 1, 0, 1, 1, 0, 1,\n",
       "       1, 0, 0, 1, 0, 0, 1, 1, 1, 0, 0, 0, 0, 0, 1, 0, 0, 1, 0, 0, 0, 0, 0,\n",
       "       1, 1, 0, 0, 1, 0, 1, 0, 0, 1, 0, 1, 0, 0, 0, 0, 0, 1, 1, 1, 1, 1, 0,\n",
       "       1, 0, 0, 0], dtype=int64)"
      ]
     },
     "execution_count": 212,
     "metadata": {},
     "output_type": "execute_result"
    }
   ],
   "source": [
    "y_pred_test"
   ]
  },
  {
   "cell_type": "code",
   "execution_count": 213,
   "metadata": {},
   "outputs": [
    {
     "data": {
      "text/html": [
       "<div>\n",
       "<style scoped>\n",
       "    .dataframe tbody tr th:only-of-type {\n",
       "        vertical-align: middle;\n",
       "    }\n",
       "\n",
       "    .dataframe tbody tr th {\n",
       "        vertical-align: top;\n",
       "    }\n",
       "\n",
       "    .dataframe thead th {\n",
       "        text-align: right;\n",
       "    }\n",
       "</style>\n",
       "<table border=\"1\" class=\"dataframe\">\n",
       "  <thead>\n",
       "    <tr style=\"text-align: right;\">\n",
       "      <th></th>\n",
       "      <th>PassengerId</th>\n",
       "      <th>Survived</th>\n",
       "    </tr>\n",
       "  </thead>\n",
       "  <tbody>\n",
       "    <tr>\n",
       "      <th>0</th>\n",
       "      <td>892</td>\n",
       "      <td>0</td>\n",
       "    </tr>\n",
       "    <tr>\n",
       "      <th>1</th>\n",
       "      <td>893</td>\n",
       "      <td>0</td>\n",
       "    </tr>\n",
       "    <tr>\n",
       "      <th>2</th>\n",
       "      <td>894</td>\n",
       "      <td>0</td>\n",
       "    </tr>\n",
       "    <tr>\n",
       "      <th>3</th>\n",
       "      <td>895</td>\n",
       "      <td>0</td>\n",
       "    </tr>\n",
       "    <tr>\n",
       "      <th>4</th>\n",
       "      <td>896</td>\n",
       "      <td>1</td>\n",
       "    </tr>\n",
       "    <tr>\n",
       "      <th>5</th>\n",
       "      <td>897</td>\n",
       "      <td>0</td>\n",
       "    </tr>\n",
       "    <tr>\n",
       "      <th>6</th>\n",
       "      <td>898</td>\n",
       "      <td>1</td>\n",
       "    </tr>\n",
       "    <tr>\n",
       "      <th>7</th>\n",
       "      <td>899</td>\n",
       "      <td>0</td>\n",
       "    </tr>\n",
       "    <tr>\n",
       "      <th>8</th>\n",
       "      <td>900</td>\n",
       "      <td>0</td>\n",
       "    </tr>\n",
       "    <tr>\n",
       "      <th>9</th>\n",
       "      <td>901</td>\n",
       "      <td>0</td>\n",
       "    </tr>\n",
       "  </tbody>\n",
       "</table>\n",
       "</div>"
      ],
      "text/plain": [
       "   PassengerId  Survived\n",
       "0          892         0\n",
       "1          893         0\n",
       "2          894         0\n",
       "3          895         0\n",
       "4          896         1\n",
       "5          897         0\n",
       "6          898         1\n",
       "7          899         0\n",
       "8          900         0\n",
       "9          901         0"
      ]
     },
     "execution_count": 213,
     "metadata": {},
     "output_type": "execute_result"
    }
   ],
   "source": [
    "sub1 = X_sub.loc[:, ['PassengerId']].copy()\n",
    "sub1['Survived'] = np.round(y_pred_test).astype(np.int64)\n",
    "sub1.head(10)"
   ]
  },
  {
   "cell_type": "code",
   "execution_count": 214,
   "metadata": {},
   "outputs": [
    {
     "data": {
      "text/html": [
       "<div>\n",
       "<style scoped>\n",
       "    .dataframe tbody tr th:only-of-type {\n",
       "        vertical-align: middle;\n",
       "    }\n",
       "\n",
       "    .dataframe tbody tr th {\n",
       "        vertical-align: top;\n",
       "    }\n",
       "\n",
       "    .dataframe thead th {\n",
       "        text-align: right;\n",
       "    }\n",
       "</style>\n",
       "<table border=\"1\" class=\"dataframe\">\n",
       "  <thead>\n",
       "    <tr style=\"text-align: right;\">\n",
       "      <th></th>\n",
       "      <th>PassengerId</th>\n",
       "      <th>Survived</th>\n",
       "    </tr>\n",
       "  </thead>\n",
       "  <tbody>\n",
       "    <tr>\n",
       "      <th>0</th>\n",
       "      <td>892</td>\n",
       "      <td>0</td>\n",
       "    </tr>\n",
       "    <tr>\n",
       "      <th>1</th>\n",
       "      <td>893</td>\n",
       "      <td>1</td>\n",
       "    </tr>\n",
       "    <tr>\n",
       "      <th>2</th>\n",
       "      <td>894</td>\n",
       "      <td>0</td>\n",
       "    </tr>\n",
       "    <tr>\n",
       "      <th>3</th>\n",
       "      <td>895</td>\n",
       "      <td>0</td>\n",
       "    </tr>\n",
       "    <tr>\n",
       "      <th>4</th>\n",
       "      <td>896</td>\n",
       "      <td>1</td>\n",
       "    </tr>\n",
       "    <tr>\n",
       "      <th>5</th>\n",
       "      <td>897</td>\n",
       "      <td>0</td>\n",
       "    </tr>\n",
       "    <tr>\n",
       "      <th>6</th>\n",
       "      <td>898</td>\n",
       "      <td>1</td>\n",
       "    </tr>\n",
       "    <tr>\n",
       "      <th>7</th>\n",
       "      <td>899</td>\n",
       "      <td>0</td>\n",
       "    </tr>\n",
       "    <tr>\n",
       "      <th>8</th>\n",
       "      <td>900</td>\n",
       "      <td>1</td>\n",
       "    </tr>\n",
       "    <tr>\n",
       "      <th>9</th>\n",
       "      <td>901</td>\n",
       "      <td>0</td>\n",
       "    </tr>\n",
       "  </tbody>\n",
       "</table>\n",
       "</div>"
      ],
      "text/plain": [
       "   PassengerId  Survived\n",
       "0          892         0\n",
       "1          893         1\n",
       "2          894         0\n",
       "3          895         0\n",
       "4          896         1\n",
       "5          897         0\n",
       "6          898         1\n",
       "7          899         0\n",
       "8          900         1\n",
       "9          901         0"
      ]
     },
     "execution_count": 214,
     "metadata": {},
     "output_type": "execute_result"
    }
   ],
   "source": [
    "gender_submission = pd.read_csv('input/gender_submission.csv')\n",
    "gender_submission.head(10)"
   ]
  },
  {
   "cell_type": "code",
   "execution_count": 215,
   "metadata": {
    "collapsed": true
   },
   "outputs": [],
   "source": [
    "sub1 = pd.merge(gender_submission.loc[:, ['PassengerId']], sub1, on = 'PassengerId', how = 'inner')"
   ]
  },
  {
   "cell_type": "code",
   "execution_count": 216,
   "metadata": {},
   "outputs": [
    {
     "data": {
      "text/html": [
       "<div>\n",
       "<style scoped>\n",
       "    .dataframe tbody tr th:only-of-type {\n",
       "        vertical-align: middle;\n",
       "    }\n",
       "\n",
       "    .dataframe tbody tr th {\n",
       "        vertical-align: top;\n",
       "    }\n",
       "\n",
       "    .dataframe thead th {\n",
       "        text-align: right;\n",
       "    }\n",
       "</style>\n",
       "<table border=\"1\" class=\"dataframe\">\n",
       "  <thead>\n",
       "    <tr style=\"text-align: right;\">\n",
       "      <th></th>\n",
       "      <th>PassengerId</th>\n",
       "      <th>Survived</th>\n",
       "    </tr>\n",
       "  </thead>\n",
       "  <tbody>\n",
       "    <tr>\n",
       "      <th>0</th>\n",
       "      <td>892</td>\n",
       "      <td>0</td>\n",
       "    </tr>\n",
       "    <tr>\n",
       "      <th>1</th>\n",
       "      <td>893</td>\n",
       "      <td>0</td>\n",
       "    </tr>\n",
       "    <tr>\n",
       "      <th>2</th>\n",
       "      <td>894</td>\n",
       "      <td>0</td>\n",
       "    </tr>\n",
       "    <tr>\n",
       "      <th>3</th>\n",
       "      <td>895</td>\n",
       "      <td>0</td>\n",
       "    </tr>\n",
       "    <tr>\n",
       "      <th>4</th>\n",
       "      <td>896</td>\n",
       "      <td>1</td>\n",
       "    </tr>\n",
       "    <tr>\n",
       "      <th>5</th>\n",
       "      <td>897</td>\n",
       "      <td>0</td>\n",
       "    </tr>\n",
       "    <tr>\n",
       "      <th>6</th>\n",
       "      <td>898</td>\n",
       "      <td>1</td>\n",
       "    </tr>\n",
       "    <tr>\n",
       "      <th>7</th>\n",
       "      <td>899</td>\n",
       "      <td>0</td>\n",
       "    </tr>\n",
       "    <tr>\n",
       "      <th>8</th>\n",
       "      <td>900</td>\n",
       "      <td>0</td>\n",
       "    </tr>\n",
       "    <tr>\n",
       "      <th>9</th>\n",
       "      <td>901</td>\n",
       "      <td>0</td>\n",
       "    </tr>\n",
       "  </tbody>\n",
       "</table>\n",
       "</div>"
      ],
      "text/plain": [
       "   PassengerId  Survived\n",
       "0          892         0\n",
       "1          893         0\n",
       "2          894         0\n",
       "3          895         0\n",
       "4          896         1\n",
       "5          897         0\n",
       "6          898         1\n",
       "7          899         0\n",
       "8          900         0\n",
       "9          901         0"
      ]
     },
     "execution_count": 216,
     "metadata": {},
     "output_type": "execute_result"
    }
   ],
   "source": [
    "sub1.head(10)"
   ]
  },
  {
   "cell_type": "code",
   "execution_count": 217,
   "metadata": {
    "collapsed": true
   },
   "outputs": [],
   "source": [
    "sub1.to_csv('output/sub1_cross_val_score1_knn8_9_name_prefix.csv', index = None)"
   ]
  },
  {
   "cell_type": "code",
   "execution_count": null,
   "metadata": {
    "collapsed": true
   },
   "outputs": [],
   "source": []
  },
  {
   "cell_type": "code",
   "execution_count": null,
   "metadata": {
    "collapsed": true
   },
   "outputs": [],
   "source": []
  }
 ],
 "metadata": {
  "kernelspec": {
   "display_name": "Python 3",
   "language": "python",
   "name": "python3"
  },
  "language_info": {
   "codemirror_mode": {
    "name": "ipython",
    "version": 3
   },
   "file_extension": ".py",
   "mimetype": "text/x-python",
   "name": "python",
   "nbconvert_exporter": "python",
   "pygments_lexer": "ipython3",
   "version": "3.6.3"
  }
 },
 "nbformat": 4,
 "nbformat_minor": 2
}
